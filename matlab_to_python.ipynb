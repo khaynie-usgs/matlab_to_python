{
 "cells": [
  {
   "cell_type": "code",
   "execution_count": null,
   "metadata": {},
   "outputs": [],
   "source": [
    "# This is a magic function in Python that embeds figures within the notebook instead (inline) of in its own cell\n",
    "%matplotlib inline"
   ]
  },
  {
   "cell_type": "code",
   "execution_count": null,
   "metadata": {},
   "outputs": [],
   "source": [
    "# local imports\n",
    "import numpy as np"
   ]
  },
  {
   "cell_type": "markdown",
   "metadata": {},
   "source": [
    "# From Matlab to Python\n",
    "\n",
    "Transitioning from using Matlab to using Python can be daunting at first! However, many of the methods available in Matlab have been rewritten in python. This notebook will explore the similarities & differences between these two languages.\n",
    "\n",
    "    \n",
    "# Why use Matlab?\n",
    "\n",
    "    1) Toolboxes provided by Mathworks are supported and easy to install.\n",
    "    2) (usually) No open-source packages to manage and include.\n",
    "    3) Co-workers use it &/or you already know how it use it.\n",
    "\n",
    "# Why use Python?\n",
    "\n",
    "    1) Python is Free, Open Source, & very popular (easy to find answers & code examples)\n",
    "    2) Python has all the computational power required for scientific tasks that Matlab does\n",
    "    3) Python has more features (general purpose) - its not just for scientific/enginering/mathematical workflows\n",
    "    \n",
    "# Matlab & Python Similarities:\n",
    "\n",
    "    1) Both are interpreted languages - goes through an interpreter (no compiling required)\n",
    "    2) Both are easy to read \n",
    "    3) Both have a large standard library\n",
    "\n",
    "\n",
    "# Matlab & Python Differences:\n",
    "\n",
    "    1) Indexing starts at 0 in Python and 1 in Matlab.\n",
    "    2) Matlab uses semicolons to suppress output. This is not required in Python.\n",
    "    3) Matlab is matrix & linear algebra focused so most data types are arrays. Python has many built-in data types to take advantage of.\n",
    "    4) Matlab has a built-in IDE (Integrated Development Enviornment) while Python does not\n",
    "    5) Python uses [] for indexing & () for function calls while Matlab uses () for both"
   ]
  },
  {
   "cell_type": "markdown",
   "metadata": {},
   "source": [
    "# From Matlab to Python - Arrays\n",
    "\n",
    "Using lists and NumPy can be very useful when making the transition from Matlab to Python! NumPy ndarray manipulations are ~50x faster than list manipulation and they take up less space. In this section, we will learn how to use NumPy ndarrays. Please see [Tutorial 1](https://mybinder.org/v2/gh/hschovanec-usgs/python_binder_tutorials/master) for more information on lists and NumPy.\n",
    "\n",
    "## Contents\n",
    "- [Array Creation](#Array-Creation)\n",
    "- [Array Concatenation](#Array-Concatenation)\n",
    "- [Array Slicing](#Array-Slicing)\n",
    "- [Matrix Multiplication](#matrix)"
   ]
  },
  {
   "cell_type": "markdown",
   "metadata": {},
   "source": [
    "### Array Creation\n",
    "\n",
    "<table>\n",
    "   <tr>\n",
    "      <th>Example</th>\n",
    "      <th>&nbsp;&nbsp;&nbsp;&nbsp;&nbsp;&nbsp;&nbsp;&nbsp;&nbsp;&nbsp;&nbsp;&nbsp;&nbsp;&nbsp;&nbsp;&nbsp;&nbsp;&nbsp;&nbsp;&nbsp;Matlab&nbsp;&nbsp;&nbsp;&nbsp;&nbsp;&nbsp;&nbsp;&nbsp;&nbsp;&nbsp;&nbsp;&nbsp;&nbsp;&nbsp;&nbsp;&nbsp;&nbsp;&nbsp;&nbsp;&nbsp;</th>\n",
    "      <th>&nbsp;&nbsp;&nbsp;&nbsp;&nbsp;&nbsp;&nbsp;&nbsp;&nbsp;&nbsp;&nbsp;&nbsp;&nbsp;&nbsp;&nbsp;&nbsp;&nbsp;&nbsp;&nbsp;&nbsp;Python&nbsp;&nbsp;&nbsp;&nbsp;&nbsp;&nbsp;&nbsp;&nbsp;&nbsp;&nbsp;&nbsp;&nbsp;&nbsp;&nbsp;&nbsp;&nbsp;&nbsp;&nbsp;&nbsp;&nbsp;</th>\n",
    "      <th>&nbsp;&nbsp;&nbsp;&nbsp;&nbsp;&nbsp;&nbsp;&nbsp;&nbsp;&nbsp;&nbsp;&nbsp;&nbsp;&nbsp;&nbsp;&nbsp;&nbsp;&nbsp;&nbsp;&nbsp;Output&nbsp;&nbsp;&nbsp;&nbsp;&nbsp;&nbsp;&nbsp;&nbsp;&nbsp;&nbsp;&nbsp;&nbsp;&nbsp;&nbsp;&nbsp;&nbsp;&nbsp;&nbsp;&nbsp;&nbsp;</th>\n",
    "   </tr>\n",
    "   <tr>\n",
    "      <td>1</td>\n",
    "      <td>a = [1, 2, 3, 4] or a = [1 2 3 4]</td>\n",
    "      <td>b = np.array([1,2,3,4])</td>\n",
    "      <td>[1 2 3 4]</td>\n",
    "   </tr>\n",
    "   <tr>\n",
    "      <td>2</td>\n",
    "      <td>b = linspace(1, 4, 2)</td>\n",
    "      <td>b = np.linspace(1, 4, 2)</td>\n",
    "      <td>[1 4]</td>\n",
    "   </tr>\n",
    "   <tr>\n",
    "      <td>3</td>\n",
    "      <td>c = zeros(2)</td>\n",
    "      <td>c = np.zeros(2)</td>\n",
    "      <td>[0 0]</td>\n",
    "   </tr>\n",
    "   <tr>\n",
    "      <td>4</td>\n",
    "      <td>d = rand(2)</td>\n",
    "      <td>d = np.random.rand(2)</td>\n",
    "      <td>[* *]</td>\n",
    "   </tr>\n",
    "   <tr>\n",
    "      <td>5</td>\n",
    "      <td>e = eye(3)</td>\n",
    "      <td>e = np.identity(3)</td>\n",
    "      <td>[[1 0 0]<br>[0 1 0]<br>[0 0 1]]</td>\n",
    "   </tr>\n",
    "   <tr>\n",
    "      <td>6</td>\n",
    "      <td>f = diag([1 2 3])</td>\n",
    "      <td>f = np.diag([1, 2, 3])</td>\n",
    "      <td>[[1 0 0]<br>[0 2 0]<br>[0 0 3]]</td>\n",
    "   </tr>\n",
    "</table>"
   ]
  },
  {
   "cell_type": "code",
   "execution_count": null,
   "metadata": {},
   "outputs": [],
   "source": [
    "## Example 1\n",
    "a = np.array([1,2,3,4])\n",
    "print(\"Example 1:\", a)\n",
    "\n",
    "## Example 2\n",
    "b = np.linspace(1, 4, 2)\n",
    "print(\"Example 2:\", b)\n",
    "\n",
    "## Example 3\n",
    "c = np.zeros(2)\n",
    "print(\"Example 3:\", c)\n",
    "\n",
    "## Example 4\n",
    "d = np.random.rand(2)\n",
    "print(\"Example 4:\", d)\n",
    "\n",
    "## Example 5\n",
    "e = np.identity(3)\n",
    "print(\"Example 5:\\n\", e)\n",
    "\n",
    "## Example 6\n",
    "f = np.diag([1, 2, 3])\n",
    "print(\"Example 6:\\n\", f)"
   ]
  },
  {
   "cell_type": "markdown",
   "metadata": {},
   "source": [
    "### Array Concatenation\n",
    "\n",
    "Concatenation in python is similar to the `cat` method in Matlab. This is used for joining arrays along an existing axis. Note: The indexing for axes begins at 0 rather than 1.\n",
    "\n",
    "<table>\n",
    "   <tr>\n",
    "      <th>Example</th>\n",
    "      <th>&nbsp;&nbsp;&nbsp;&nbsp;&nbsp;&nbsp;&nbsp;&nbsp;&nbsp;&nbsp;&nbsp;&nbsp;&nbsp;&nbsp;&nbsp;&nbsp;&nbsp;&nbsp;&nbsp;&nbsp;Matlab&nbsp;&nbsp;&nbsp;&nbsp;&nbsp;&nbsp;&nbsp;&nbsp;&nbsp;&nbsp;&nbsp;&nbsp;&nbsp;&nbsp;&nbsp;&nbsp;&nbsp;&nbsp;&nbsp;&nbsp;</th>\n",
    "      <th>&nbsp;&nbsp;&nbsp;&nbsp;&nbsp;&nbsp;&nbsp;&nbsp;&nbsp;&nbsp;&nbsp;&nbsp;&nbsp;&nbsp;&nbsp;&nbsp;&nbsp;&nbsp;&nbsp;&nbsp;Python&nbsp;&nbsp;&nbsp;&nbsp;&nbsp;&nbsp;&nbsp;&nbsp;&nbsp;&nbsp;&nbsp;&nbsp;&nbsp;&nbsp;&nbsp;&nbsp;&nbsp;&nbsp;&nbsp;&nbsp;</th>\n",
    "      <th>&nbsp;&nbsp;&nbsp;&nbsp;&nbsp;&nbsp;&nbsp;&nbsp;&nbsp;&nbsp;&nbsp;&nbsp;&nbsp;&nbsp;&nbsp;&nbsp;&nbsp;&nbsp;&nbsp;&nbsp;Output&nbsp;&nbsp;&nbsp;&nbsp;&nbsp;&nbsp;&nbsp;&nbsp;&nbsp;&nbsp;&nbsp;&nbsp;&nbsp;&nbsp;&nbsp;&nbsp;&nbsp;&nbsp;&nbsp;&nbsp;</th>\n",
    "   </tr>\n",
    "   <tr>\n",
    "      <td>1</td>\n",
    "      <td>a1 = ones(3)<br>a2 = zeros(3)<br>a = cat(1, a1, a2)</td>\n",
    "      <td>a1 = np.ones((3, 3))<br>a2 = np.zeros((3, 3))<br>a = np.concatenate((a1, a2), axis=0)</td>\n",
    "      <td>[[1 1 1]<br>\n",
    " [1 1 1]<br>\n",
    " [1 1 1]<br>\n",
    " [0 0 0]<br>\n",
    " [0 0 0]<br>\n",
    " [0 0 0]]</td>\n",
    "   </tr>\n",
    "    <tr>\n",
    "      <td>2</td>\n",
    "      <td>b1 = ones(3)<br>b2 = zeros(3)<br>b = cat(2, b1, b2)</td>\n",
    "      <td>b1 = np.ones((3, 3))<br>b2 = np.zeros((3, 3))<br>b = np.concatenate((b1, b2), axis=1)</td>\n",
    "      <td> [[1 1 1 0 0 0]<br>\n",
    " [1 1 1 0 0 0]<br>\n",
    " [1 1 1 0 0 0]]</td>\n",
    "   </tr>\n",
    "</table>"
   ]
  },
  {
   "cell_type": "code",
   "execution_count": null,
   "metadata": {},
   "outputs": [],
   "source": [
    "## Example 1\n",
    "a1 = np.ones((3, 3))\n",
    "a2 = np.zeros((3, 3))\n",
    "a = np.concatenate((a1, a2), axis=0) # join by column; this is the default.\n",
    "print('a1 =\\n', a1)\n",
    "print('a2 =\\n', a2)\n",
    "print(\"Example 1:\\n\", a)\n",
    "\n",
    "## Example 2\n",
    "b = np.concatenate((a1, a2), axis=1) # join by row\n",
    "print(\"Example 2:\\n\", b)"
   ]
  },
  {
   "cell_type": "markdown",
   "metadata": {},
   "source": [
    "### Array Slicing\n",
    "\n",
    "<table>\n",
    "   <tr>\n",
    "      <th>Example</th>\n",
    "      <th>&nbsp;&nbsp;&nbsp;&nbsp;&nbsp;&nbsp;&nbsp;&nbsp;&nbsp;&nbsp;&nbsp;&nbsp;&nbsp;&nbsp;&nbsp;&nbsp;&nbsp;&nbsp;&nbsp;&nbsp;Matlab&nbsp;&nbsp;&nbsp;&nbsp;&nbsp;&nbsp;&nbsp;&nbsp;&nbsp;&nbsp;&nbsp;&nbsp;&nbsp;&nbsp;&nbsp;&nbsp;&nbsp;&nbsp;&nbsp;&nbsp;</th>\n",
    "      <th>&nbsp;&nbsp;&nbsp;&nbsp;&nbsp;&nbsp;&nbsp;&nbsp;&nbsp;&nbsp;&nbsp;&nbsp;&nbsp;&nbsp;&nbsp;&nbsp;&nbsp;&nbsp;&nbsp;&nbsp;Python&nbsp;&nbsp;&nbsp;&nbsp;&nbsp;&nbsp;&nbsp;&nbsp;&nbsp;&nbsp;&nbsp;&nbsp;&nbsp;&nbsp;&nbsp;&nbsp;&nbsp;&nbsp;&nbsp;&nbsp;</th>\n",
    "      <th>&nbsp;&nbsp;&nbsp;&nbsp;&nbsp;&nbsp;&nbsp;&nbsp;&nbsp;&nbsp;&nbsp;&nbsp;&nbsp;&nbsp;&nbsp;&nbsp;&nbsp;&nbsp;&nbsp;&nbsp;Output&nbsp;&nbsp;&nbsp;&nbsp;&nbsp;&nbsp;&nbsp;&nbsp;&nbsp;&nbsp;&nbsp;&nbsp;&nbsp;&nbsp;&nbsp;&nbsp;&nbsp;&nbsp;&nbsp;&nbsp;</th>\n",
    "   </tr>\n",
    "   <tr>\n",
    "      <td>1</td>\n",
    "      <td>a1 = [16 5 9 4 2 11 7 14]<br> a = a1(3:7)</td>\n",
    "      <td>a1 = np.array([16, 5, 9, 4, 2, 11, 7, 14])<br> a = a1[2:7]</td>\n",
    "      <td>[ 9  4  2 11  7]</td>\n",
    "   </tr>\n",
    "    <tr>\n",
    "      <td>2</td>\n",
    "      <td>b1 = [16 5 9 4 2 11 7 14]<br> b = b1(1:2:end)</td>\n",
    "      <td>b1 = np.array([16, 5, 9, 4, 2, 11, 7, 14])<br> b = b1[0::2]</td>\n",
    "        <td>[16  9  2  7]</td>\n",
    "   </tr>\n",
    "    <tr>\n",
    "      <td>3</td>\n",
    "      <td>c1 = [16 5 9 4 2 11 7 14]<br> c = c1(end:-1:1) </td>\n",
    "      <td>c1 = np.array([16, 5, 9, 4, 2, 11, 7, 14])<br> c = c1[::-1]</td>\n",
    "        <td>[14  7 11  2  4  9  5 16]</td>\n",
    "   </tr>\n",
    "</table>"
   ]
  },
  {
   "cell_type": "code",
   "execution_count": null,
   "metadata": {},
   "outputs": [],
   "source": [
    "## Example 1 - get items from columns 3 to 7\n",
    "a1 = np.array([16, 5, 9, 4, 2, 11, 7, 14])\n",
    "a = a1[2:7]\n",
    "print(\"Example 1 = \\n\", a)\n",
    "\n",
    "## Example 2 - get every 2nd item start from item 1\n",
    "b1 = np.array([16, 5, 9, 4, 2, 11, 7, 14])\n",
    "b = b1[0::2]\n",
    "print(\"Example 2 = \\n\", b)\n",
    "\n",
    "## Example 3 - reverse the order of items in the array\n",
    "c1 = np.array([16, 5, 9, 4, 2, 11, 7, 14])\n",
    "c = c1[::-1]\n",
    "print(\"Example 3 = \\n\", c)"
   ]
  },
  {
   "cell_type": "markdown",
   "metadata": {},
   "source": [
    "### Quiz 1\n",
    "\n",
    "**Create: 1) a random 3x4 array, 2) a random 2x4 array, 3) concatenate the arrays by the 0 index, and 4) print row 3 columns 2 to 4**\n",
    "\n",
    "<details>\n",
    "  <summary>SEE SOLUTION</summary>\n",
    "    \n",
    "```\n",
    "a = np.random.rand(3,4)\n",
    "print('a\\n',a)\n",
    "b = np.random.rand(2,4)\n",
    "print('b\\n',b)\n",
    "c = np.concatenate((a, b), axis=0)\n",
    "print('c\\n',c)\n",
    "d = c[3,1:4]\n",
    "print('Answer = \\n',d)\n",
    "```\n",
    "</details>"
   ]
  },
  {
   "cell_type": "code",
   "execution_count": null,
   "metadata": {},
   "outputs": [],
   "source": [
    "## Your Code Here"
   ]
  },
  {
   "cell_type": "markdown",
   "metadata": {},
   "source": [
    "<a id='matrix'></a>\n",
    "### Matrix Multiplication\n",
    "\n",
    "In Python, the NumPy library must also be used for creating a matrix and doing matrix manipulation.\n",
    "\n",
    "| Example | Matlab | Python | Output      \n",
    "| :- |:- | :- | :-\n",
    "|1|a = [5,4 ; 2,7];<br> b = [1,11;6,10];<br> c = a * b |a = np.matrix(((5,4), (2,7)))<br> b = np.matrix(((1,11), (6, 10)))<br> c = a * b | [[29 95]<br>[44 92]]\n"
   ]
  },
  {
   "cell_type": "code",
   "execution_count": null,
   "metadata": {},
   "outputs": [],
   "source": [
    "## Example 1\n",
    "a = np.matrix(((5,4), (2, 7)))\n",
    "print(f'Matrix A = \\n {a}')\n",
    "b = np.matrix(((1,11), (6, 10)))\n",
    "print(f'Matrix B = \\n {b}')\n",
    "c = a * b\n",
    "print(f'A * B = \\n {c}')\n",
    "print(f'Product:\\n {np.dot(a,b)}')\n",
    "\n",
    "# element wise operations:\n",
    "print(f'Multiplication:\\n {np.multiply(a,b)}')\n",
    "print(f'Addition:\\n {np.add(a,b)}')"
   ]
  },
  {
   "cell_type": "markdown",
   "metadata": {},
   "source": [
    "# From Matlab to Python - Looping, If Statements, & Functions\n",
    "Let's look at some quick examples of looping, if statements, as well as writing and calling functions. More details are available in [Tutorial 1](https://mybinder.org/v2/gh/hschovanec-usgs/python_binder_tutorials/master).\n",
    "\n",
    "## Contents\n",
    "- [Looping & If Statements](#looping)\n",
    "- [Functions](#Functions)"
   ]
  },
  {
   "cell_type": "markdown",
   "metadata": {},
   "source": [
    "<a id='looping'></a>\n",
    "### Looping & If Statements\n",
    "Indentation and using colons are important when looping and using if statements in Python!\n",
    "\n",
    "| Example | Matlab | Python | Output      \n",
    "| :- |:- | :- | :-\n",
    "|1| for i=1:5 <br>&nbsp;&nbsp;&nbsp;&nbsp;a(i) = i; <br>end|a = [] <br>for i in range(1,6): <br>&nbsp;&nbsp;&nbsp;&nbsp;a.append(i) | [1, 2, 3, 4, 5]\n",
    "|2|a = 1;<br>b = 4;<br>if a == 1 \\|\\| b == 5 <br>&nbsp;&nbsp;&nbsp;&nbsp;fprintf('a is 1 or b is 5')<br>end |a = 1<br> b = 4<br>if a == 1 or b ==5:<br>&nbsp;&nbsp;&nbsp;&nbsp;print('a is 1 or b is 5') | a is 1 or b is 5"
   ]
  },
  {
   "cell_type": "code",
   "execution_count": null,
   "metadata": {},
   "outputs": [],
   "source": [
    "## Example 1 - for loop\n",
    "a = [] # must initialize array/list\n",
    "for i in range(1,6):\n",
    "    a.append(i)\n",
    "print(f'Example 1:\\n {a}')\n",
    "\n",
    "## Example 2 - if statement\n",
    "a = 1\n",
    "b = 4\n",
    "if a == 1 or b ==5:\n",
    "    print('a is 1 or b is 5')"
   ]
  },
  {
   "cell_type": "markdown",
   "metadata": {},
   "source": [
    "### Quiz 2\n",
    "**Loop through an array of values from 1 to 6 and print out each even number.** Hint: you can use the Modulo Operator (the % sign) to determine the remainder of a divsion.\n",
    "\n",
    "<details>\n",
    "  <summary>SEE SOLUTION</summary>\n",
    "    \n",
    "```\n",
    "a = np.array([1,2,3,4,5,6])\n",
    "print(\"array =\\n\",a)\n",
    "for i in a:\n",
    "    if i % 2 == 0:\n",
    "        print(f'{i} is an even number')\n",
    "```\n",
    "</details>"
   ]
  },
  {
   "cell_type": "code",
   "execution_count": null,
   "metadata": {},
   "outputs": [],
   "source": [
    "## Your Code Here"
   ]
  },
  {
   "cell_type": "markdown",
   "metadata": {},
   "source": [
    "### Functions\n",
    "\n",
    "In Python the main function and other function definitions can be in the same file, whereas in Matlab the main and function definitions are typically in separate files. In Matlab it is common to have one file for each function where the name of the function and file is the same. In Python, however, you can have multiple functions in one file with no name dependencies! More details on writing functions in Python are available in [Tutorial 1](https://mybinder.org/v2/gh/hschovanec-usgs/python_binder_tutorials/master). Note: it is possible in Matlab to include multiple functions in one file by returning function handles to local functions by making them fields of a struct ([example here](#https://stackoverflow.com/questions/3569933/is-it-possible-to-define-more-than-one-function-per-file-in-matlab-and-access-t)).\n",
    "\n",
    "| Example | Matlab | Python | Output      \n",
    "| :- |:- | :- | :-\n",
    "|1| function z = my_func(x,y)<br> z =x + y | def my_func(x,y):<br>&nbsp;&nbsp;&nbsp;&nbsp;z =x + y<br>&nbsp;&nbsp;&nbsp;&nbsp;return z | z is returned"
   ]
  },
  {
   "cell_type": "code",
   "execution_count": null,
   "metadata": {},
   "outputs": [],
   "source": [
    "## Example 1\n",
    "def my_func(x,y):\n",
    "    z = x + y\n",
    "    return z\n",
    "\n",
    "# call the function\n",
    "my_func(2,3)"
   ]
  },
  {
   "cell_type": "markdown",
   "metadata": {},
   "source": [
    "# From Matlab to Python - Basic Plotting\n",
    "\n",
    "Lets look at some quick examples of 2D & 3D plotting! In general, plotting is similar but Python requires the use of external libraries. Commands like `hold on` and using semicolons is not necessary like it is in Matlab. In Python, the figure does not automatically open in a separate display when running a script like it does in Matlab. You will have to save the figure in your code. However, if using Jupyter or ipython it is possible for the figure to appear in line or in a separate window.\n",
    "\n",
    "## Contents\n",
    "- [2D Plotting](#2d)\n",
    "- [3D Plotting](#3d)"
   ]
  },
  {
   "cell_type": "markdown",
   "metadata": {},
   "source": [
    "<a id='2d'></a>\n",
    "### 2D Plotting\n",
    "\n",
    "Here are Python equivalencies of plots using Matplotlib from examples in the Matlab documentation (https://www.mathworks.com/help/matlab/ref/plot.html). Examples of plotting maps in Python using Cartopy will also be covered.\n",
    "\n",
    "## Contents\n",
    "- [Line Plot](#Line-Plot)\n",
    "- [Multiple Line Plot](#Multiple-Line-Plot)\n",
    "- [Line Styling](#Line-Styling)\n",
    "- [Multiple Axes](#Multiple-Axes)\n",
    "- [Maps](#Maps)"
   ]
  },
  {
   "cell_type": "code",
   "execution_count": null,
   "metadata": {},
   "outputs": [],
   "source": [
    "# 2D plotting Realted Libraries\n",
    "import numpy as np\n",
    "import matplotlib.pyplot as plt\n",
    "# for mapping:\n",
    "import cartopy\n",
    "import cartopy.crs as ccrs\n",
    "import cartopy.feature as cfeature"
   ]
  },
  {
   "cell_type": "markdown",
   "metadata": {},
   "source": [
    "## Line Plot\n",
    "\n",
    "| Example | Matlab | Python     \n",
    "| :- |:- | :-\n",
    "|1|x = linspace(0,4*pi,100);<br>y = cos(x);<br>plot(x,y)<br>ylabel('cos(x)')<br>xlabel('x') | x = np.linspace(0,4*np.pi,100)<br>y = np.cos(x)<br>plt.plot(x,y)<br>plt.ylabel('cos(x)')<br>plt.xlabel('x')<br>plt.show()"
   ]
  },
  {
   "cell_type": "code",
   "execution_count": null,
   "metadata": {},
   "outputs": [],
   "source": [
    "## Example 1\n",
    "x = np.linspace(0,4*np.pi,100)\n",
    "y = np.cos(x)\n",
    "plt.figure(1)\n",
    "plt.plot(x,y)\n",
    "plt.ylabel('cos(x)')\n",
    "plt.xlabel('x')\n",
    "plt.title('Example 1')\n",
    "plt.show()"
   ]
  },
  {
   "cell_type": "markdown",
   "metadata": {},
   "source": [
    "## Multiple Line Plot"
   ]
  },
  {
   "cell_type": "code",
   "execution_count": null,
   "metadata": {},
   "outputs": [],
   "source": [
    "## Example 2\n",
    "x1 = np.linspace(-2*np.pi, 2*np.pi)\n",
    "y1 = np.sin(x1)\n",
    "y2 = np.cos(x1)"
   ]
  },
  {
   "cell_type": "markdown",
   "metadata": {},
   "source": [
    "### Quiz 3\n",
    "**Execute the cell above then plot both x1 and y1 together in one plot**\n",
    "\n",
    "<details>\n",
    "  <summary>SEE SOLUTION</summary>\n",
    "    \n",
    "```\n",
    "plt.figure(2)\n",
    "plt.plot(x1, y1, x1, y2)\n",
    "plt.title('Example 2')\n",
    "plt.show()\n",
    "```\n",
    "</details>"
   ]
  },
  {
   "cell_type": "code",
   "execution_count": null,
   "metadata": {},
   "outputs": [],
   "source": [
    "# Your Code Here"
   ]
  },
  {
   "cell_type": "markdown",
   "metadata": {},
   "source": [
    "## Line Styling"
   ]
  },
  {
   "cell_type": "code",
   "execution_count": null,
   "metadata": {},
   "outputs": [],
   "source": [
    "## Example 3\n",
    "x = np.arange(0, 2*np.pi, np.pi/100)\n",
    "y1 = np.sin(x)\n",
    "y2 = np.sin(x-0.25)\n",
    "y3 = np.sin(x-0.5)\n",
    "\n",
    "plt.figure(3)\n",
    "plt.plot(x, y1,'k', x, y2, '--m', x, y3, ':c')\n",
    "plt.title('Example 3')\n",
    "plt.show()"
   ]
  },
  {
   "cell_type": "markdown",
   "metadata": {},
   "source": [
    "## Multiple Axes"
   ]
  },
  {
   "cell_type": "code",
   "execution_count": null,
   "metadata": {},
   "outputs": [],
   "source": [
    "## Example 4\n",
    "x = np.linspace(0,3)\n",
    "y1 = np.sin(5*x)\n",
    "y2 = np.sin(15*x)\n",
    "\n",
    "f, (ax1, ax2) = plt.subplots(2, 1, sharex=True)\n",
    "ax1.plot(x1, y1)\n",
    "ax1.set_title('Top Plot')\n",
    "ax1.set_ylabel('sin(5x)')\n",
    "\n",
    "ax2.scatter(x1, y2)\n",
    "ax2.set_title('Bottom Plot')\n",
    "ax2.set_ylabel('sin(15x)')\n",
    "plt.show()"
   ]
  },
  {
   "cell_type": "markdown",
   "metadata": {},
   "source": [
    "## Maps\n",
    "\n",
    "You can also make maps in Python using Cartopy! Cartopy was developed for improving the visualization of geographically located scientific data. The projection must be defined when creating axes. Features like rivers, borders, coastlines can also be easily added from the cartopy.feature library."
   ]
  },
  {
   "cell_type": "code",
   "execution_count": null,
   "metadata": {},
   "outputs": [],
   "source": [
    "## Example 1\n",
    "plt.figure()\n",
    "ax = plt.axes(projection=ccrs.PlateCarree())\n",
    "ax.coastlines()\n",
    "ax.add_feature(cfeature.BORDERS, linestyle=':')\n",
    "ax.add_feature(cfeature.RIVERS)\n",
    "ax.add_feature(cfeature.LAND)\n",
    "plt.show()"
   ]
  },
  {
   "cell_type": "code",
   "execution_count": null,
   "metadata": {},
   "outputs": [],
   "source": [
    "## Example 2 \n",
    "projections = [ccrs.Robinson(),\n",
    "               ccrs.Mercator(),\n",
    "               ccrs.LambertConformal()\n",
    "              ]\n",
    "for proj in projections:\n",
    "    plt.figure()\n",
    "    ax = plt.axes(projection=proj)\n",
    "    ax.stock_img()\n",
    "    ax.coastlines()\n",
    "    ax.set_title(f'{type(proj)}')"
   ]
  },
  {
   "cell_type": "markdown",
   "metadata": {},
   "source": [
    "<a id='3d'></a>\n",
    "### 3D Plotting\n",
    "\n",
    "3D plotting in Python is similar to 3D plotting in Matlab. Here are a few examples of 3D plotting in Python. There are a variety of different 3D plotting packages to choose from, here we will use 3D plotting with Matplotlib and follow examples from https://jakevdp.github.io/PythonDataScienceHandbook/04.12-three-dimensional-plotting.html.\n",
    "\n",
    "## Contents\n",
    "- [Figure Basics](#Figure-Basics)\n",
    "- [Line and Scatter Plots](#Line-&-Scatter-Plots)\n",
    "- [ContourPlot](#Contour-Plot)\n",
    "- [Wirefram Plot](#Wireframe-Plot)\n",
    "- [Surface Plot](#Surface-Plot)"
   ]
  },
  {
   "cell_type": "markdown",
   "metadata": {},
   "source": [
    "### Figure Basics"
   ]
  },
  {
   "cell_type": "code",
   "execution_count": null,
   "metadata": {},
   "outputs": [],
   "source": [
    "# 3D plotting related libaries:\n",
    "# %matplotlib notebook is required for being able to interact with 3D plots\n",
    "%matplotlib notebook\n",
    "from mpl_toolkits import mplot3d\n",
    "import numpy as np\n",
    "import matplotlib.pyplot as plt"
   ]
  },
  {
   "cell_type": "code",
   "execution_count": null,
   "metadata": {},
   "outputs": [],
   "source": [
    "# The projection='3d' must be used for creating a 3D axes\n",
    "fig = plt.figure()\n",
    "ax = plt.axes(projection='3d')\n",
    "ax.set_xlabel('x')\n",
    "ax.set_ylabel('y')\n",
    "ax.set_zlabel('z')\n",
    "ax.set_title('3D Plot')\n",
    "plt.show()"
   ]
  },
  {
   "cell_type": "markdown",
   "metadata": {},
   "source": [
    "### Line & Scatter Plots"
   ]
  },
  {
   "cell_type": "code",
   "execution_count": null,
   "metadata": {},
   "outputs": [],
   "source": [
    "fig = plt.figure()\n",
    "ax = plt.axes(projection='3d')\n",
    "\n",
    "# Create data for a 3D line\n",
    "zline = np.linspace(0, 25, 1000)\n",
    "xline = np.sin(zline)\n",
    "yline = np.cos(zline)\n",
    "ax.plot3D(xline, yline, zline, 'gray')\n",
    "\n",
    "# Create data for 3D scattered points\n",
    "zdata = 25 * np.random.random(100)\n",
    "xdata = np.sin(zdata) + 0.1 * np.random.randn(100)\n",
    "ydata = np.cos(zdata) + 0.1 * np.random.randn(100)\n",
    "ax.scatter3D(xdata, ydata, zdata, c=zdata, cmap='Reds')\n",
    "plt.show()"
   ]
  },
  {
   "cell_type": "markdown",
   "metadata": {},
   "source": [
    "### Contour Plot"
   ]
  },
  {
   "cell_type": "code",
   "execution_count": null,
   "metadata": {},
   "outputs": [],
   "source": [
    "def f(x, y):\n",
    "    return np.sin(np.sqrt(x ** 2 + y ** 2))\n",
    "\n",
    "x = np.linspace(-6, 6, 30)\n",
    "y = np.linspace(-6, 6, 30)\n",
    "\n",
    "X, Y = np.meshgrid(x, y)\n",
    "Z = f(X, Y)"
   ]
  },
  {
   "cell_type": "code",
   "execution_count": null,
   "metadata": {},
   "outputs": [],
   "source": [
    "fig = plt.figure()\n",
    "ax = plt.axes(projection='3d')\n",
    "ax.contour3D(X, Y, Z, 50, cmap='binary')\n",
    "ax.set_xlabel('x')\n",
    "ax.set_ylabel('y')\n",
    "ax.set_zlabel('z')\n",
    "plt.show()"
   ]
  },
  {
   "cell_type": "markdown",
   "metadata": {},
   "source": [
    "### Wireframe Plot"
   ]
  },
  {
   "cell_type": "code",
   "execution_count": null,
   "metadata": {},
   "outputs": [],
   "source": [
    "fig = plt.figure()\n",
    "ax = plt.axes(projection='3d')\n",
    "ax.plot_wireframe(X, Y, Z, color='black')\n",
    "ax.set_title('wireframe')\n",
    "plt.show()"
   ]
  },
  {
   "cell_type": "markdown",
   "metadata": {},
   "source": [
    "### Surface Plot"
   ]
  },
  {
   "cell_type": "code",
   "execution_count": null,
   "metadata": {},
   "outputs": [],
   "source": [
    "fig = plt.figure()\n",
    "ax = plt.axes(projection='3d')\n",
    "ax.plot_surface(X, Y, Z, rstride=1, cstride=1,\n",
    "                cmap='viridis', edgecolor='none')\n",
    "ax.set_title('surface')\n",
    "plt.show()"
   ]
  },
  {
   "cell_type": "markdown",
   "metadata": {},
   "source": [
    "### Quiz 4\n",
    "**Plot Alaska seismicity. Read in the file Alaska_EQ.xyz and plot using 1) a 3D scatter plot, and 2) Cartopy to plot data in map view using a Mercator projection. Bonus points if you plot eathquake magnitude by circle size and depth by colour.** Alaska_EQ.xyz has columns longitude, latitude, positive depth (km), magnitude. Hint: [Tutorial 1](https://mybinder.org/v2/gh/hschovanec-usgs/python_binder_tutorials/master) covered reading in data.\n",
    "\n",
    "<details>\n",
    "  <summary>SEE SOLUTION</summary>\n",
    "    \n",
    "```\n",
    "# Read in data and parse:\n",
    "hypo = np.genfromtxt('Alaska_EQ.xyz')\n",
    "lon = hypo[:,0]\n",
    "lat = hypo[:,1]\n",
    "depth = hypo[:,2]\n",
    "mag = hypo[:,3]\n",
    "lonMax = lon.max()+2\n",
    "lonMin = lon.min()-2\n",
    "latMax = lat.max()+2\n",
    "latMin = lat.min()-2\n",
    "lonMid = (lonMax + lonMin)/2\n",
    "\n",
    "# 3D scatter plot:\n",
    "fig = plt.figure()\n",
    "ax = plt.axes(projection='3d')\n",
    "p = ax.scatter3D(lon, lat, depth*-1, c=depth*-1, s=mag, cmap='magma')\n",
    "#fig.colorbar(p)\n",
    "ax.set_xlabel('lon')\n",
    "ax.set_ylabel('lat')\n",
    "ax.set_zlabel('Negative Depth')\n",
    "ax.set_title('Seismicity of Alaska')\n",
    "plt.show()\n",
    "\n",
    "# Cartopy Map:\n",
    "fig = plt.figure()\n",
    "# define map extent:\n",
    "img_extent = (lonMin, lonMax, latMin, latMax)\n",
    "# define projection & plot:\n",
    "ax = plt.axes(projection=ccrs.Mercator(central_longitude=lonMid))\n",
    "ax.scatter(lon,lat,c=depth*-1, s=mag*2, cmap='magma',transform=ccrs.PlateCarree())\n",
    "ax.set_extent(img_extent)\n",
    "# set basemap & add coastlines & borders:\n",
    "ax.stock_img()\n",
    "ax.coastlines()\n",
    "ax.add_feature(cfeature.BORDERS, linestyle=':')\n",
    "# add lon lat grid lines and labels:\n",
    "ax.gridlines(crs=ccrs.PlateCarree(), draw_labels=True,linewidth=0.5, color='gray', alpha=0.5, linestyle='--')\n",
    "plt.show()\n",
    "```\n",
    "</details>"
   ]
  },
  {
   "cell_type": "code",
   "execution_count": null,
   "metadata": {
    "scrolled": true
   },
   "outputs": [],
   "source": [
    "# Your Code Here"
   ]
  },
  {
   "cell_type": "code",
   "execution_count": null,
   "metadata": {},
   "outputs": [],
   "source": []
  }
 ],
 "metadata": {
  "kernelspec": {
   "display_name": "Python 3",
   "language": "python",
   "name": "python3"
  },
  "language_info": {
   "codemirror_mode": {
    "name": "ipython",
    "version": 3
   },
   "file_extension": ".py",
   "mimetype": "text/x-python",
   "name": "python",
   "nbconvert_exporter": "python",
   "pygments_lexer": "ipython3",
   "version": "3.9.5"
  }
 },
 "nbformat": 4,
 "nbformat_minor": 2
}
